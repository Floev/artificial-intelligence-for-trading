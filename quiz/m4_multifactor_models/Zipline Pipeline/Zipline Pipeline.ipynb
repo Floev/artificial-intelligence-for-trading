{
 "cells": [
  {
   "cell_type": "markdown",
   "metadata": {},
   "source": [
    "# Zipline Pipeline"
   ]
  },
  {
   "cell_type": "markdown",
   "metadata": {},
   "source": [
    "### Introduction\n",
    "\n",
    "On any given trading day, the entire universe of stocks consists of thousands of securities. Usually, you will not be  interested in investing in all the stocks in the entire universe, but rather, you will likely select only a subset of these to invest. For example, you may only want to invest in stocks that have a 10-day average closing price of \\$10.00 or less. Or you may only want to invest in the top 500 securities ranked by some factor.\n",
    "\n",
    "In order to avoid spending a lot of time doing data wrangling to select only the securities you are interested in, people often use **pipelines**. In general, a pipeline is a placeholder for a series of data operations used to filter and rank data according to some factor or factors. \n",
    "\n",
    "In this notebook, you will learn how to work with the **Zipline Pipeline**. Zipline is an open-source algorithmic trading simulator developed by *Quantopian*. We will learn how to use the Zipline Pipeline to filter stock data according to factors. "
   ]
  },
  {
   "cell_type": "markdown",
   "metadata": {},
   "source": [
    "### Install Packages"
   ]
  },
  {
   "cell_type": "code",
   "execution_count": 1,
   "metadata": {},
   "outputs": [],
   "source": [
    "import os,sys\n",
    "repo_dir = os.path.dirname(os.path.dirname(os.path.dirname(os.getcwd())))\n",
    "if sys.path[0]!=repo_dir:\n",
    "    sys.path.insert(0,repo_dir)\n",
    "os.environ[\"PATH\"] += os.path.join(os.environ[\"PATH\"].split(\";\")[0],'Library','bin','graphviz;')"
   ]
  },
  {
   "cell_type": "code",
   "execution_count": 2,
   "metadata": {},
   "outputs": [
    {
     "data": {
      "text/plain": [
       "environ{'ALLUSERSPROFILE': 'C:\\\\ProgramData',\n",
       "        'APPDATA': 'C:\\\\Users\\\\Pat\\\\AppData\\\\Roaming',\n",
       "        'COMMONPROGRAMFILES': 'C:\\\\Program Files\\\\Common Files',\n",
       "        'COMMONPROGRAMFILES(X86)': 'C:\\\\Program Files (x86)\\\\Common Files',\n",
       "        'COMMONPROGRAMW6432': 'C:\\\\Program Files\\\\Common Files',\n",
       "        'COMPUTERNAME': 'DESKTOP-GJE7FAD',\n",
       "        'COMSPEC': 'C:\\\\WINDOWS\\\\system32\\\\cmd.exe',\n",
       "        'CONDA_DEFAULT_ENV': 'aitnd',\n",
       "        'CONDA_PREFIX': 'C:\\\\Users\\\\Pat\\\\Anaconda3\\\\envs\\\\aitnd',\n",
       "        'CONDA_PS1_BACKUP': '$P$G',\n",
       "        'DRIVERDATA': 'C:\\\\Windows\\\\System32\\\\Drivers\\\\DriverData',\n",
       "        'FPS_BROWSER_APP_PROFILE_STRING': 'Internet Explorer',\n",
       "        'FPS_BROWSER_USER_PROFILE_STRING': 'Default',\n",
       "        'GTK_BASEPATH': 'C:\\\\Program Files (x86)\\\\GtkSharp\\\\2.12\\\\',\n",
       "        'HOMEDRIVE': 'C:',\n",
       "        'HOMEPATH': '\\\\Users\\\\Pat',\n",
       "        'LOCALAPPDATA': 'C:\\\\Users\\\\Pat\\\\AppData\\\\Local',\n",
       "        'LOGONSERVER': '\\\\\\\\DESKTOP-GJE7FAD',\n",
       "        'NUMBER_OF_PROCESSORS': '4',\n",
       "        'ONEDRIVE': 'C:\\\\Users\\\\Pat\\\\OneDrive',\n",
       "        'ONEDRIVECONSUMER': 'C:\\\\Users\\\\Pat\\\\OneDrive',\n",
       "        'OS': 'Windows_NT',\n",
       "        'PATH': 'C:\\\\Users\\\\Pat\\\\Anaconda3\\\\envs\\\\aitnd;C:\\\\Users\\\\Pat\\\\Anaconda3\\\\envs\\\\aitnd\\\\Library\\\\mingw-w64\\\\bin;C:\\\\Users\\\\Pat\\\\Anaconda3\\\\envs\\\\aitnd\\\\Library\\\\usr\\\\bin;C:\\\\Users\\\\Pat\\\\Anaconda3\\\\envs\\\\aitnd\\\\Library\\\\bin;C:\\\\Users\\\\Pat\\\\Anaconda3\\\\envs\\\\aitnd\\\\Scripts;C:\\\\Program Files\\\\Docker\\\\Docker\\\\Resources\\\\bin;C:\\\\WINDOWS\\\\system32;C:\\\\WINDOWS;C:\\\\WINDOWS\\\\System32\\\\Wbem;C:\\\\WINDOWS\\\\System32\\\\WindowsPowerShell\\\\v1.0\\\\;C:\\\\Program Files\\\\Git\\\\cmd;C:\\\\Program Files\\\\PuTTY\\\\;C:\\\\Program Files (x86)\\\\Windows Kits\\\\8.1\\\\Windows Performance Toolkit\\\\;C:\\\\Program Files\\\\nodejs\\\\;C:\\\\Program Files (x86)\\\\GtkSharp\\\\2.12\\\\bin;C:\\\\WINDOWS\\\\System32\\\\OpenSSH\\\\;C:\\\\Users\\\\Pat\\\\Anaconda3;C:\\\\Users\\\\Pat\\\\Anaconda3\\\\Scripts;C:\\\\Users\\\\Pat\\\\Anaconda3\\\\Library\\\\bin;C:\\\\Users\\\\Pat\\\\AppData\\\\Local\\\\Microsoft\\\\WindowsApps;C:\\\\Users\\\\Pat\\\\AppData\\\\Roaming\\\\npm;C:\\\\Users\\\\Pat\\\\OpenMined\\\\go-ipfs;C:\\\\Users\\\\Pat\\\\Anaconda3\\\\envs\\\\aitnd\\\\Library\\\\bin\\\\graphviz;',\n",
       "        'PATHEXT': '.COM;.EXE;.BAT;.CMD;.VBS;.VBE;.JS;.JSE;.WSF;.WSH;.MSC;.SH',\n",
       "        'PROCESSOR_ARCHITECTURE': 'AMD64',\n",
       "        'PROCESSOR_IDENTIFIER': 'Intel64 Family 6 Model 61 Stepping 4, GenuineIntel',\n",
       "        'PROCESSOR_LEVEL': '6',\n",
       "        'PROCESSOR_REVISION': '3d04',\n",
       "        'PROGRAMDATA': 'C:\\\\ProgramData',\n",
       "        'PROGRAMFILES': 'C:\\\\Program Files',\n",
       "        'PROGRAMFILES(X86)': 'C:\\\\Program Files (x86)',\n",
       "        'PROGRAMW6432': 'C:\\\\Program Files',\n",
       "        'PROMPT': '(aitnd) $P$G',\n",
       "        'PSMODULEPATH': 'C:\\\\Program Files\\\\WindowsPowerShell\\\\Modules;C:\\\\WINDOWS\\\\system32\\\\WindowsPowerShell\\\\v1.0\\\\Modules',\n",
       "        'PUBLIC': 'C:\\\\Users\\\\Public',\n",
       "        'SESSIONNAME': 'Console',\n",
       "        'SYSTEMDRIVE': 'C:',\n",
       "        'SYSTEMROOT': 'C:\\\\WINDOWS',\n",
       "        'TEMP': 'C:\\\\Users\\\\Pat\\\\AppData\\\\Local\\\\Temp',\n",
       "        'TMP': 'C:\\\\Users\\\\Pat\\\\AppData\\\\Local\\\\Temp',\n",
       "        'USERDOMAIN': 'DESKTOP-GJE7FAD',\n",
       "        'USERDOMAIN_ROAMINGPROFILE': 'DESKTOP-GJE7FAD',\n",
       "        'USERNAME': 'Pat',\n",
       "        'USERPROFILE': 'C:\\\\Users\\\\Pat',\n",
       "        'VS140COMNTOOLS': 'C:\\\\Program Files (x86)\\\\Microsoft Visual Studio 14.0\\\\Common7\\\\Tools\\\\',\n",
       "        'WINDIR': 'C:\\\\WINDOWS',\n",
       "        'JPY_INTERRUPT_EVENT': '5752',\n",
       "        'IPY_INTERRUPT_EVENT': '5752',\n",
       "        'JPY_PARENT_PID': '5188',\n",
       "        'TERM': 'xterm-color',\n",
       "        'CLICOLOR': '1',\n",
       "        'PAGER': 'cat',\n",
       "        'GIT_PAGER': 'cat',\n",
       "        'MPLBACKEND': 'module://ipykernel.pylab.backend_inline'}"
      ]
     },
     "execution_count": 2,
     "metadata": {},
     "output_type": "execute_result"
    }
   ],
   "source": [
    "os.environ"
   ]
  },
  {
   "cell_type": "markdown",
   "metadata": {},
   "source": [
    "# Loading Data with Zipline\n",
    "\n",
    "Before we build our pipeline with Zipline, we will first see how we can load the stock data we are going to use into Zipline. Zipline uses **Data Bundles** to make it easy to use different data sources. A data bundle is a collection of pricing data, adjustment data, and an asset database. Zipline employs data bundles to preload data used to run backtests and store data for future runs. Zipline comes with a few data bundles by default but it also has the ability to ingest new bundles. The first step to using a data bundle is to ingest the data. Zipline's ingestion process will start by downloading the data or by loading data files from your local machine. It will then pass the data to a set of writer objects that converts the original data to Zipline’s internal format (`bcolz` for pricing data, and `SQLite` for split/merger/dividend data) that hs been optimized for speed. This new data is written to a standard location that Zipline can find. By default, the new data is written to a subdirectory of `ZIPLINE_ROOT/data/<bundle>`, where `<bundle>` is the name given to the bundle ingested and the subdirectory is named with the current date. This allows Zipline to look at older data and run backtests on older copies of the data. Running a backtest with an old ingestion makes it easier to reproduce backtest results later. \n",
    "\n",
    "In this notebook, we will be using stock data from **Quotemedia**. In the Udacity Workspace you will find that the stock data from Quotemedia has already been ingested into Zipline. Therefore, in the code below we will use Zipline's `bundles.load()` function to load our previously ingested stock data from Quotemedia. In order to use the `bundles.load()` function we first need to do a couple of things. First, we need to specify the name of the bundle previously ingested. In this case, the name of the Quotemedia data bundle is `eod-quotemedia`:"
   ]
  },
  {
   "cell_type": "code",
   "execution_count": 3,
   "metadata": {},
   "outputs": [],
   "source": [
    "# Specify the bundle name\n",
    "bundle_name = 'eod-quotemedia'"
   ]
  },
  {
   "cell_type": "markdown",
   "metadata": {},
   "source": [
    "Second, we need to register the data bundle and its ingest function with Zipline, using the `bundles.register()` function. The ingest function is responsible for loading the data into memory and passing it to a set of writer objects provided by Zipline to convert the data to Zipline’s internal format. Since the original Quotemedia data was contained in `.csv` files, we will use the `csvdir_equities()` function to generate the ingest function for our Quotemedia data bundle. In addition, since Quotemedia's `.csv` files contained daily stock data, we will set the time frame for our ingest function, to `daily`."
   ]
  },
  {
   "cell_type": "code",
   "execution_count": 4,
   "metadata": {},
   "outputs": [],
   "source": [
    "from zipline.data import bundles\n",
    "from zipline.data.bundles.csvdir import csvdir_equities\n",
    "\n",
    "# Create an ingest function \n",
    "ingest_func = csvdir_equities(['daily'], bundle_name)\n",
    "\n",
    "# Register the data bundle and its ingest function\n",
    "bundles.register(bundle_name, ingest_func);"
   ]
  },
  {
   "cell_type": "markdown",
   "metadata": {},
   "source": [
    "Once our data bundle and ingest function are registered, we can load our data using the `bundles.load()` function. Since this function loads our previously ingested data, we need to set `ZIPLINE_ROOT` to the path of the most recent ingested data. The most recent data is located in the `cwd/../../data/project_4_eod/` directory, where `cwd` is the current working directory. We will specify this location using the `os.environ[]` command."
   ]
  },
  {
   "cell_type": "code",
   "execution_count": 5,
   "metadata": {},
   "outputs": [],
   "source": [
    "import os\n",
    "\n",
    "# Set environment variable 'ZIPLINE_ROOT' to the path where the most recent data is located\n",
    "os.environ['ZIPLINE_ROOT'] = os.path.join(os.getcwd(), '..', '..', 'data', 'project_4_eod')\n",
    "\n",
    "# Load the data bundle\n",
    "bundle_data = bundles.load(bundle_name)"
   ]
  },
  {
   "cell_type": "markdown",
   "metadata": {},
   "source": [
    "# Building an Empty Pipeline\n",
    "\n",
    "Once we have loaded our data, we can start building our Zipline pipeline. We begin by creating an empty Pipeline object using Zipline's `Pipeline` class. A Pipeline object represents a collection of named expressions to be compiled and executed by a Pipeline Engine. The `Pipeline(columns=None, screen=None)` class takes two optional parameters, `columns` and `screen`. The `columns` parameter is a dictionary used to indicate the intial columns to use, and the `screen` parameter is used to setup a screen to exclude unwanted data. \n",
    "\n",
    "In the code below we will create a `screen` for our pipeline using Zipline's built-in `.AverageDollarVolume()` class. We will use the `.AverageDollarVolume()` class to produce a 60-day Average Dollar Volume of closing prices for every stock in our universe. We then use the `.top(10)` attribute to specify that we want to filter down our universe each day to just the top 10 assets. Therefore, this screen will act as a filter to exclude data from our stock universe each day. The average dollar volume is a good first pass filter to avoid illiquid assets."
   ]
  },
  {
   "cell_type": "code",
   "execution_count": 6,
   "metadata": {},
   "outputs": [],
   "source": [
    "from zipline.pipeline import Pipeline\n",
    "from zipline.pipeline.factors import AverageDollarVolume\n",
    "\n",
    "# Create a screen for our Pipeline\n",
    "universe = AverageDollarVolume(window_length = 60).top(10)\n",
    "\n",
    "# Create an empty Pipeline with the given screen\n",
    "pipeline = Pipeline(screen = universe)"
   ]
  },
  {
   "cell_type": "markdown",
   "metadata": {},
   "source": [
    "In the code above we have named our Pipeline object `pipeline` so that we can identify it later when we make computations. Remember a Pipeline is an object that represents computations we would like to perform every day. A freshly-constructed pipeline, like the one we just created, is empty. This means it doesn’t yet know how to compute anything, and it won’t produce any values if we ask for its outputs. In the sections below, we will see how to provide our Pipeline with expressions to compute."
   ]
  },
  {
   "cell_type": "markdown",
   "metadata": {},
   "source": [
    "# Factors and Filters\n",
    "\n",
    "The `.AverageDollarVolume()` class used above is an example of a factor. In this section we will take a look at two types of computations that can be expressed in a pipeline: **Factors** and **Filters**. In general, factors and filters represent functions that produce a value from an asset in a moment in time, but are distinguished by the types of values they produce. Let's start by looking at factors.\n",
    "\n",
    "\n",
    "### Factors\n",
    "\n",
    "In general, a **Factor** is a function from an asset at a particular moment of time to a numerical value. A simple example of a factor is the most recent price of a security. Given a security and a specific moment in time, the most recent price is a number. Another example is the 10-day average trading volume of a security. Factors are most commonly used to assign values to securities which can then be combined with filters or other factors. The fact that you can combine multiple factors makes it easy for you to form new custom factors that can be as complex as you like. For example, constructing a Factor that computes the average of two other Factors can be simply illustrated usingthe pseudocode below:\n",
    "\n",
    "```python\n",
    "f1 = factor1(...)\n",
    "f2 = factor2(...)  \n",
    "average = (f1 + f2) / 2.0  \n",
    "```\n",
    "\n",
    "### Filters\n",
    "\n",
    "In general, a **Filter** is a function from an asset at a particular moment in time to a boolean value (True of False). An example of a filter is a function indicating whether a security's price is below \\$5. Given a security and a specific moment in time, this evaluates to either **True** or **False**. Filters are most commonly used for selecting sets of securities to include or exclude from your stock universe. Filters are usually applied using comparison operators, such as <, <=, !=, ==, >, >=."
   ]
  },
  {
   "cell_type": "markdown",
   "metadata": {},
   "source": [
    "# Viewing the Pipeline as a Diagram\n",
    "\n",
    "Zipline's Pipeline class comes with the attribute `.show_graph()` that allows you to render the Pipeline as a Directed Acyclic Graph (DAG). This graph is specified using the DOT language and consequently we need a DOT graph layout program to view the rendered image. In the code below, we will use the Graphviz pakage to render the graph produced by the `.show_graph()` attribute. Graphviz is an open-source package for drawing graphs specified in DOT language scripts."
   ]
  },
  {
   "cell_type": "code",
   "execution_count": 7,
   "metadata": {},
   "outputs": [
    {
     "data": {
      "image/svg+xml": [
       "<svg height=\"376pt\" viewBox=\"0.00 0.00 389.00 376.00\" width=\"389pt\" xmlns=\"http://www.w3.org/2000/svg\" xmlns:xlink=\"http://www.w3.org/1999/xlink\">\n",
       "<g class=\"graph\" id=\"graph0\" transform=\"scale(1 1) rotate(0) translate(4 372)\">\n",
       "<title>G</title>\n",
       "<polygon fill=\"white\" points=\"-4,4 -4,-372 385,-372 385,4 -4,4\" stroke=\"none\"/>\n",
       "<g class=\"cluster\" id=\"clust1\"><title>cluster_Output</title>\n",
       "<polygon fill=\"#ffec8b\" points=\"116,-8 116,-85 264,-85 264,-8 116,-8\" stroke=\"#ffec8b\"/>\n",
       "<text font-family=\"Times New Roman,serif\" font-size=\"14.00\" text-anchor=\"middle\" x=\"190\" y=\"-15.8\">Output</text>\n",
       "</g>\n",
       "<g class=\"cluster\" id=\"clust2\"><title>cluster_Input</title>\n",
       "<polygon fill=\"#ffec8b\" points=\"8,-268 8,-360 373,-360 373,-268 8,-268\" stroke=\"#ffec8b\"/>\n",
       "<text font-family=\"Times New Roman,serif\" font-size=\"14.00\" text-anchor=\"middle\" x=\"190.5\" y=\"-344.8\">Input</text>\n",
       "</g>\n",
       "<!-- 2266025647912 -->\n",
       "<g class=\"node\" id=\"node1\"><title>2266025647912</title>\n",
       "<polygon fill=\"#ccebc5\" points=\"256,-77 124,-77 124,-39 256,-39 256,-77\" stroke=\"black\"/>\n",
       "<text font-family=\"Times New Roman,serif\" font-size=\"14.00\" text-anchor=\"start\" x=\"132\" y=\"-61.8\">Expression:</text>\n",
       "<text font-family=\"Times New Roman,serif\" font-size=\"14.00\" text-anchor=\"start\" x=\"132\" y=\"-46.8\">  x_0 &lt;= (1.00E+01)</text>\n",
       "</g>\n",
       "<!-- 2266117045664 -->\n",
       "<g class=\"node\" id=\"node2\"><title>2266117045664</title>\n",
       "<polygon fill=\"#fbb4ae\" points=\"364.5,-329 199.5,-329 199.5,-276 364.5,-276 364.5,-329\" stroke=\"black\"/>\n",
       "<text font-family=\"Times New Roman,serif\" font-size=\"14.00\" text-anchor=\"start\" x=\"207.5\" y=\"-313.8\">BoundColumn:</text>\n",
       "<text font-family=\"Times New Roman,serif\" font-size=\"14.00\" text-anchor=\"start\" x=\"207.5\" y=\"-298.8\">  Dataset: USEquityPricing</text>\n",
       "<text font-family=\"Times New Roman,serif\" font-size=\"14.00\" text-anchor=\"start\" x=\"207.5\" y=\"-283.8\">  Column: volume</text>\n",
       "</g>\n",
       "<!-- 2266122828320 -->\n",
       "<g class=\"node\" id=\"node4\"><title>2266122828320</title>\n",
       "<polygon fill=\"#b3cde3\" points=\"261.5,-240 118.5,-240 118.5,-202 261.5,-202 261.5,-240\" stroke=\"black\"/>\n",
       "<text font-family=\"Times New Roman,serif\" font-size=\"14.00\" text-anchor=\"start\" x=\"126.5\" y=\"-224.8\">AverageDollarVolume:</text>\n",
       "<text font-family=\"Times New Roman,serif\" font-size=\"14.00\" text-anchor=\"start\" x=\"126.5\" y=\"-209.8\">  window_length: 60</text>\n",
       "</g>\n",
       "<!-- 2266117045664&#45;&gt;2266122828320 -->\n",
       "<g class=\"edge\" id=\"edge4\"><title>2266117045664-&gt;2266122828320</title>\n",
       "<path d=\"M230.5,-275.814C230.5,-275.814 230.5,-250.253 230.5,-250.253\" fill=\"none\" stroke=\"black\"/>\n",
       "<polygon fill=\"black\" points=\"234,-250.253 230.5,-240.253 227,-250.253 234,-250.253\" stroke=\"black\"/>\n",
       "</g>\n",
       "<!-- 2266116994664 -->\n",
       "<g class=\"node\" id=\"node3\"><title>2266116994664</title>\n",
       "<polygon fill=\"#fbb4ae\" points=\"181.5,-329 16.5,-329 16.5,-276 181.5,-276 181.5,-329\" stroke=\"black\"/>\n",
       "<text font-family=\"Times New Roman,serif\" font-size=\"14.00\" text-anchor=\"start\" x=\"24.5\" y=\"-313.8\">BoundColumn:</text>\n",
       "<text font-family=\"Times New Roman,serif\" font-size=\"14.00\" text-anchor=\"start\" x=\"24.5\" y=\"-298.8\">  Dataset: USEquityPricing</text>\n",
       "<text font-family=\"Times New Roman,serif\" font-size=\"14.00\" text-anchor=\"start\" x=\"24.5\" y=\"-283.8\">  Column: close</text>\n",
       "</g>\n",
       "<!-- 2266116994664&#45;&gt;2266122828320 -->\n",
       "<g class=\"edge\" id=\"edge3\"><title>2266116994664-&gt;2266122828320</title>\n",
       "<path d=\"M150,-275.814C150,-275.814 150,-250.253 150,-250.253\" fill=\"none\" stroke=\"black\"/>\n",
       "<polygon fill=\"black\" points=\"153.5,-250.253 150,-240.253 146.5,-250.253 153.5,-250.253\" stroke=\"black\"/>\n",
       "</g>\n",
       "<!-- 2266122828544 -->\n",
       "<g class=\"node\" id=\"node5\"><title>2266122828544</title>\n",
       "<polygon fill=\"#b3cde3\" points=\"252.5,-166 127.5,-166 127.5,-113 252.5,-113 252.5,-166\" stroke=\"black\"/>\n",
       "<text font-family=\"Times New Roman,serif\" font-size=\"14.00\" text-anchor=\"start\" x=\"135.5\" y=\"-150.8\">Rank:</text>\n",
       "<text font-family=\"Times New Roman,serif\" font-size=\"14.00\" text-anchor=\"start\" x=\"135.5\" y=\"-135.8\">  method: 'ordinal'</text>\n",
       "<text font-family=\"Times New Roman,serif\" font-size=\"14.00\" text-anchor=\"start\" x=\"135.5\" y=\"-120.8\">  mask: AssetExists</text>\n",
       "</g>\n",
       "<!-- 2266122828320&#45;&gt;2266122828544 -->\n",
       "<g class=\"edge\" id=\"edge2\"><title>2266122828320-&gt;2266122828544</title>\n",
       "<path d=\"M190,-201.686C190,-201.686 190,-176.075 190,-176.075\" fill=\"none\" stroke=\"black\"/>\n",
       "<polygon fill=\"black\" points=\"193.5,-176.075 190,-166.075 186.5,-176.075 193.5,-176.075\" stroke=\"black\"/>\n",
       "</g>\n",
       "<!-- 2266122828544&#45;&gt;2266025647912 -->\n",
       "<g class=\"edge\" id=\"edge1\"><title>2266122828544-&gt;2266025647912</title>\n",
       "<path d=\"M190,-112.814C190,-112.814 190,-87.2531 190,-87.2531\" fill=\"none\" stroke=\"black\"/>\n",
       "<polygon fill=\"black\" points=\"193.5,-87.253 190,-77.2531 186.5,-87.2531 193.5,-87.253\" stroke=\"black\"/>\n",
       "</g>\n",
       "</g>\n",
       "</svg>"
      ],
      "text/plain": [
       "<IPython.core.display.SVG object>"
      ]
     },
     "execution_count": 7,
     "metadata": {},
     "output_type": "execute_result"
    }
   ],
   "source": [
    "import graphviz\n",
    "\n",
    "# Render the pipeline as a DAG\n",
    "pipeline.show_graph()"
   ]
  },
  {
   "cell_type": "markdown",
   "metadata": {},
   "source": [
    "Right now, our pipeline is empty and it only contains a screen. Therefore, when we rendered our `pipeline`, we only see the diagram of our `screen`:\n",
    "\n",
    "```python\n",
    "AverageDollarVolume(window_length = 60).top(10)\n",
    "```\n",
    "\n",
    "By default, the `.AverageDollarVolume()` class uses the `USEquityPricing` dataset, containing daily trading prices and volumes, to compute the average dollar volume:\n",
    "\n",
    "```python\n",
    "average_dollar_volume = np.nansum(close_price * volume, axis=0) / len(close_price)\n",
    "```\n",
    "The top of the diagram reflects the fact that the `.AverageDollarVolume()` class gets its inputs (closing price and volume) from the `USEquityPricing` dataset. The bottom of the diagram shows that the output is determined by the expression `x_0 <= 10`. This expression reflects the fact that we used `.top(10)` as a filter in our `screen`. We refer to each box in the diagram as a Term. "
   ]
  },
  {
   "cell_type": "markdown",
   "metadata": {},
   "source": [
    "# Datasets and Dataloaders               \n",
    "\n",
    "One of the features of Zipline's Pipeline is that it separates the actual source of the stock data from the abstract description of that dataset. Therefore, Zipline employs **DataSets** and **Loaders** for those datasets. `DataSets` are just abstract collections of sentinel values describing the columns/types for a particular dataset.  While a `loader` is an object which, given a request for a particular chunk of a dataset, can actually get the requested data. For example, the loader used for the `USEquityPricing` dataset, is the `USEquityPricingLoader` class. The `USEquityPricingLoader` class will delegate the loading of baselines and adjustments to lower-level subsystems that know how to get the pricing data in the default formats used by Zipline (`bcolz` for pricing data, and `SQLite` for split/merger/dividend data). As we saw in the beginning of this notebook, data bundles automatically convert the stock data into `bcolz` and `SQLite` formats. It is important to note that the `USEquityPricingLoader` class can also be used to load daily OHLCV data from other datasets, not just from the `USEquityPricing` dataset. Simliarly, it is also  possible to write different loaders for the same dataset and use those instead of the default loader. Zipline contains lots of other loaders to allow you to load data from different datasets.\n",
    "\n",
    "In the code below, we will use `USEquityPricingLoader(BcolzDailyBarWriter, SQLiteAdjustmentWriter)` to create a loader from a `bcolz` equity pricing directory and a `SQLite` adjustments path. Both the `BcolzDailyBarWriter` and `SQLiteAdjustmentWriter` determine the path of the pricing and adjustment data. Since we will be using the Quotemedia data bundle, we will use the `bundle_data.equity_daily_bar_reader` and the `bundle_data.adjustment_reader` as our `BcolzDailyBarWriter` and `SQLiteAdjustmentWriter`, respectively."
   ]
  },
  {
   "cell_type": "code",
   "execution_count": 8,
   "metadata": {},
   "outputs": [],
   "source": [
    "from zipline.pipeline.loaders import USEquityPricingLoader\n",
    "\n",
    "# Set the dataloader\n",
    "pricing_loader = USEquityPricingLoader(bundle_data.equity_daily_bar_reader, bundle_data.adjustment_reader)"
   ]
  },
  {
   "cell_type": "markdown",
   "metadata": {},
   "source": [
    "# Pipeline Engine\n",
    "\n",
    "Zipline employs computation engines for executing Pipelines. In the code below we will use Zipline's `SimplePipelineEngine()` class as the engine to execute our pipeline. The `SimplePipelineEngine(get_loader, calendar, asset_finder)` class associates the chosen data loader with the corresponding dataset and a trading calendar. The `get_loader` parameter must be a callable function that is given a loadable term and returns a `PipelineLoader` to use to retrieve the raw data for that term in the pipeline. In our case, we will be using the `pricing_loader` defined above, we therefore, create a function called `choose_loader` that returns our `pricing_loader`. The function also checks that the data that is being requested corresponds to OHLCV data, otherwise it retunrs an error. The `calendar` parameter must be a `DatetimeIndex` array of dates to consider as trading days when computing a range between a fixed `start_date` and `end_date`. In our case, we will be using the same trading days as those used in the NYSE. We will use Zipline's `get_calendar('NYSE')` function to retrieve the trading days used by the NYSE. We then use the `.all_sessions` attribute to get the `DatetimeIndex` from our `trading_calendar` and pass it to the `calendar` parameter. Finally, the `asset_finder` parameter determines which assets are in the top-level universe of our stock data at any point in time. Since we are using the Quotemedia data bundle, we set this parameter to the `bundle_data.asset_finder`."
   ]
  },
  {
   "cell_type": "code",
   "execution_count": 9,
   "metadata": {},
   "outputs": [],
   "source": [
    "from zipline.utils.calendars import get_calendar\n",
    "from zipline.pipeline.data import USEquityPricing\n",
    "from zipline.pipeline.engine import SimplePipelineEngine\n",
    "\n",
    "# Define the function for the get_loader parameter\n",
    "def choose_loader(column):\n",
    "    if column not in USEquityPricing.columns:\n",
    "        raise Exception('Column not in USEquityPricing')\n",
    "    return pricing_loader\n",
    "\n",
    "# Set the trading calendar\n",
    "trading_calendar = get_calendar('NYSE')\n",
    "\n",
    "# Create a Pipeline engine\n",
    "engine = SimplePipelineEngine(get_loader = choose_loader,\n",
    "                              calendar = trading_calendar.all_sessions,\n",
    "                              asset_finder = bundle_data.asset_finder)"
   ]
  },
  {
   "cell_type": "markdown",
   "metadata": {},
   "source": [
    "# Running a Pipeline\n",
    "\n",
    "Once we have chosen our engine we are ready to run or execute our pipeline. We can run our pipeline by using the `.run_pipeline()` attribute of the `SimplePipelineEngine` class. In particular, the `SimplePipelineEngine.run_pipeline(pipeline, start_date, end_date)` implements the following algorithm for executing pipelines:\n",
    "\n",
    "\n",
    "1. Build a dependency graph of all terms in the `pipeline`. In this step, the graph is sorted topologically to determine the order in which we can compute the terms.\n",
    "\n",
    "\n",
    "2. Ask our AssetFinder for a “lifetimes matrix”, which should contain, for each date between `start_date` and `end_date`, a boolean value for each known asset indicating whether the asset existed on that date.\n",
    "\n",
    "\n",
    "3. Compute each term in the dependency order determined in step 1, caching the results in a a dictionary so that they can be fed into future terms.\n",
    "\n",
    "\n",
    "4. For each date, determine the number of assets passing the `pipeline` screen. The sum, $N$, of all these values is the total number of rows in our output Pandas Dataframe, so we pre-allocate an output array of length $N$ for each factor in terms.\n",
    "\n",
    "\n",
    "5. Fill in the arrays allocated in step 4 by copying computed values from our output cache into the corresponding rows.\n",
    "\n",
    "\n",
    "6. Stick the values computed in step 5 into a Pandas DataFrame and return it.\n",
    "\n",
    "In the code below, we run our pipeline for a single day, so our `start_date` and `end_date` will be the same. We then print some information about our `pipeline_output`."
   ]
  },
  {
   "cell_type": "code",
   "execution_count": 10,
   "metadata": {},
   "outputs": [
    {
     "name": "stdout",
     "output_type": "stream",
     "text": [
      "The pipeline output has type: <class 'pandas.core.frame.DataFrame'> \n",
      "\n",
      "Is the pipeline output a MultiIndex Dataframe: True \n",
      "\n",
      "Index Level 0:\n",
      "\n",
      " DatetimeIndex(['2016-01-05', '2016-01-05', '2016-01-05', '2016-01-05',\n",
      "               '2016-01-05', '2016-01-05', '2016-01-05', '2016-01-05',\n",
      "               '2016-01-05', '2016-01-05'],\n",
      "              dtype='datetime64[ns, UTC]', freq=None) \n",
      "\n",
      "Index Level 1:\n",
      "\n",
      " Index([   Equity(3 [AAPL]),    Equity(19 [AGN]),   Equity(38 [AMZN]),\n",
      "          Equity(59 [BAC]),    Equity(173 [FB]),    Equity(192 [GE]),\n",
      "        Equity(198 [GOOG]), Equity(199 [GOOGL]),  Equity(312 [MSFT]),\n",
      "        Equity(323 [NFLX])],\n",
      "      dtype='object') \n",
      "\n"
     ]
    }
   ],
   "source": [
    "import pandas as pd\n",
    "\n",
    "# Set the start and end dates\n",
    "start_date = pd.Timestamp('2016-01-05', tz = 'utc')\n",
    "end_date = pd.Timestamp('2016-01-05', tz = 'utc')\n",
    "\n",
    "# Run our pipeline for the given start and end dates\n",
    "pipeline_output = engine.run_pipeline(pipeline, start_date, end_date)\n",
    "\n",
    "# We print information about the pipeline output\n",
    "print('The pipeline output has type:', type(pipeline_output), '\\n')\n",
    "\n",
    "# We print whether the pipeline output is a MultiIndex Dataframe\n",
    "print('Is the pipeline output a MultiIndex Dataframe:', isinstance(pipeline_output.index, pd.core.index.MultiIndex), '\\n')\n",
    "\n",
    "# If the pipeline output is a MultiIndex Dataframe we print the two levels of the index\n",
    "if isinstance(pipeline_output.index, pd.core.index.MultiIndex):\n",
    "\n",
    "    # We print the index level 0\n",
    "    print('Index Level 0:\\n\\n', pipeline_output.index.get_level_values(0), '\\n')\n",
    "\n",
    "    # We print the index level 1\n",
    "    print('Index Level 1:\\n\\n', pipeline_output.index.get_level_values(1), '\\n')"
   ]
  },
  {
   "cell_type": "markdown",
   "metadata": {},
   "source": [
    "We can see above that the return value of `.run_pipeline()` is a `MultiIndex` Pandas DataFrame containing a row for each asset that passed our pipeline’s screen. We can also see that the 0th level of the index contains the date and the 1st level of the index contains the tickers. In general, the returned Pandas DataFrame will also contain a column for each factor and filter we add to the pipeline using  `Pipeline.add()`. At this point we haven't added any factors or filters to our pipeline, consequently, the Pandas Dataframe will have no columns. In the following sections we will see how to add factors and filters to our pipeline."
   ]
  },
  {
   "cell_type": "markdown",
   "metadata": {},
   "source": [
    "# Get Tickers\n",
    "\n",
    "We saw in the previous section, that the tickers of the stocks that passed our pipeline’s screen are contained in the 1st level of the index. Therefore, we can use the Pandas `.get_level_values(1).values.tolist()` method to get the tickers of those stocks and save them to a list."
   ]
  },
  {
   "cell_type": "code",
   "execution_count": 11,
   "metadata": {},
   "outputs": [
    {
     "data": {
      "text/plain": [
       "[Equity(3 [AAPL]),\n",
       " Equity(19 [AGN]),\n",
       " Equity(38 [AMZN]),\n",
       " Equity(59 [BAC]),\n",
       " Equity(173 [FB]),\n",
       " Equity(192 [GE]),\n",
       " Equity(198 [GOOG]),\n",
       " Equity(199 [GOOGL]),\n",
       " Equity(312 [MSFT]),\n",
       " Equity(323 [NFLX])]"
      ]
     },
     "execution_count": 11,
     "metadata": {},
     "output_type": "execute_result"
    }
   ],
   "source": [
    "# Get the values in index level 1 and save them to a list\n",
    "universe_tickers = pipeline_output.index.get_level_values(1).values.tolist()\n",
    "\n",
    "# Display the tickers\n",
    "universe_tickers"
   ]
  },
  {
   "cell_type": "markdown",
   "metadata": {},
   "source": [
    "# Get Data\n",
    "\n",
    "Now that we have the tickers for the stocks that passed our pipeline’s screen, we can get the historical stock data for those tickers from our data bundle. In order to get the historical data we need to use Zipline's `DataPortal` class. A `DataPortal` is an interface to all of the data that a Zipline simulation needs. In the code below, we will create a `DataPortal` and `get_pricing` function to get historical stock prices for our tickers. \n",
    "\n",
    "We have already seen most of the parameters used below when we create the `DataPortal`, so we won't explain them again here. The only new parameter is `first_trading_day`. The `first_trading_day` parameter is a `pd.Timestamp` indicating the first trading day for the simulation. We will set the first trading day to the first trading day in the data bundle. For more information on the `DataPortal` class see the [Zipline documentation](https://www.zipline.io/appendix.html?highlight=dataportal#zipline.data.data_portal.DataPortal)"
   ]
  },
  {
   "cell_type": "code",
   "execution_count": 12,
   "metadata": {},
   "outputs": [],
   "source": [
    "from zipline.data.data_portal import DataPortal\n",
    "\n",
    "# Create a data portal\n",
    "data_portal = DataPortal(bundle_data.asset_finder,\n",
    "                         trading_calendar = trading_calendar,\n",
    "                         first_trading_day = bundle_data.equity_daily_bar_reader.first_trading_day,\n",
    "                         equity_daily_reader = bundle_data.equity_daily_bar_reader,\n",
    "                         adjustment_reader = bundle_data.adjustment_reader)"
   ]
  },
  {
   "cell_type": "markdown",
   "metadata": {},
   "source": [
    "Now that we have created a `data_portal` we will create a helper function, `get_pricing`, that gets the historical data from the `data_portal` for a given set of `start_date` and `end_date`. The `get_pricing` function takes various parameters: \n",
    "\n",
    "```python\n",
    "def get_pricing(data_portal, trading_calendar, assets, start_date, end_date, field='close')\n",
    "```\n",
    "\n",
    "\n",
    "The first two parameters, `data_portal` and `trading_calendar`, have already been defined above. The third paramter, `assets`, is a list of tickers. In our case we will use the tickers from the output of our pipeline, namely, `universe_tickers`. The fourth and fifth parameters are strings specifying the `start_date` and `end_date`. The function converts these two strings into Timestamps with a Custom Business Day frequency. The last parameter, `field`, is a string used to indicate which field to return. In our case we want to get the closing price, so we set `field='close`. \n",
    "\n",
    "The function returns the historical stock price data using the `.get_history_window()` attribute of the `DataPortal` class. This attribute returns a Pandas Dataframe containing the requested history window with the data fully adjusted. The `bar_count` parameter is an integer indicating the number of days to return. The number of days determines the number of rows of the returned dataframe. Both the `frequency` and `data_frequency` parameters are strings that indicate the frequency of the data to query, *i.e.* whether the data is in `daily` or `minute` intervals."
   ]
  },
  {
   "cell_type": "code",
   "execution_count": 13,
   "metadata": {},
   "outputs": [
    {
     "data": {
      "text/html": [
       "<div>\n",
       "<style scoped>\n",
       "    .dataframe tbody tr th:only-of-type {\n",
       "        vertical-align: middle;\n",
       "    }\n",
       "\n",
       "    .dataframe tbody tr th {\n",
       "        vertical-align: top;\n",
       "    }\n",
       "\n",
       "    .dataframe thead th {\n",
       "        text-align: right;\n",
       "    }\n",
       "</style>\n",
       "<table border=\"1\" class=\"dataframe\">\n",
       "  <thead>\n",
       "    <tr style=\"text-align: right;\">\n",
       "      <th></th>\n",
       "      <th>Equity(3 [AAPL])</th>\n",
       "      <th>Equity(19 [AGN])</th>\n",
       "      <th>Equity(38 [AMZN])</th>\n",
       "      <th>Equity(59 [BAC])</th>\n",
       "      <th>Equity(173 [FB])</th>\n",
       "      <th>Equity(192 [GE])</th>\n",
       "      <th>Equity(198 [GOOG])</th>\n",
       "      <th>Equity(199 [GOOGL])</th>\n",
       "      <th>Equity(312 [MSFT])</th>\n",
       "      <th>Equity(323 [NFLX])</th>\n",
       "    </tr>\n",
       "  </thead>\n",
       "  <tbody>\n",
       "    <tr>\n",
       "      <th>2011-01-06 00:00:00+00:00</th>\n",
       "      <td>42.399</td>\n",
       "      <td>50.648</td>\n",
       "      <td>185.86</td>\n",
       "      <td>13.456</td>\n",
       "      <td>NaN</td>\n",
       "      <td>14.472</td>\n",
       "      <td>NaN</td>\n",
       "      <td>307.699</td>\n",
       "      <td>23.695</td>\n",
       "      <td>25.427</td>\n",
       "    </tr>\n",
       "    <tr>\n",
       "      <th>2011-01-07 00:00:00+00:00</th>\n",
       "      <td>42.702</td>\n",
       "      <td>51.440</td>\n",
       "      <td>185.49</td>\n",
       "      <td>13.279</td>\n",
       "      <td>NaN</td>\n",
       "      <td>14.371</td>\n",
       "      <td>NaN</td>\n",
       "      <td>309.174</td>\n",
       "      <td>23.515</td>\n",
       "      <td>25.614</td>\n",
       "    </tr>\n",
       "  </tbody>\n",
       "</table>\n",
       "</div>"
      ],
      "text/plain": [
       "                           Equity(3 [AAPL])  Equity(19 [AGN])  \\\n",
       "2011-01-06 00:00:00+00:00            42.399            50.648   \n",
       "2011-01-07 00:00:00+00:00            42.702            51.440   \n",
       "\n",
       "                           Equity(38 [AMZN])  Equity(59 [BAC])  \\\n",
       "2011-01-06 00:00:00+00:00             185.86            13.456   \n",
       "2011-01-07 00:00:00+00:00             185.49            13.279   \n",
       "\n",
       "                           Equity(173 [FB])  Equity(192 [GE])  \\\n",
       "2011-01-06 00:00:00+00:00               NaN            14.472   \n",
       "2011-01-07 00:00:00+00:00               NaN            14.371   \n",
       "\n",
       "                           Equity(198 [GOOG])  Equity(199 [GOOGL])  \\\n",
       "2011-01-06 00:00:00+00:00                 NaN              307.699   \n",
       "2011-01-07 00:00:00+00:00                 NaN              309.174   \n",
       "\n",
       "                           Equity(312 [MSFT])  Equity(323 [NFLX])  \n",
       "2011-01-06 00:00:00+00:00              23.695              25.427  \n",
       "2011-01-07 00:00:00+00:00              23.515              25.614  "
      ]
     },
     "execution_count": 13,
     "metadata": {},
     "output_type": "execute_result"
    }
   ],
   "source": [
    "def get_pricing(data_portal, trading_calendar, assets, start_date, end_date, field='close'):\n",
    "    \n",
    "    # Set the given start and end dates to Timestamps. The frequency string C is used to\n",
    "    # indicate that a CustomBusinessDay DateOffset is used\n",
    "    end_dt = pd.Timestamp(end_date, tz='UTC', freq='C')\n",
    "    start_dt = pd.Timestamp(start_date, tz='UTC', freq='C')\n",
    "\n",
    "    # Get the locations of the start and end dates\n",
    "    end_loc = trading_calendar.closes.index.get_loc(end_dt)\n",
    "    start_loc = trading_calendar.closes.index.get_loc(start_dt)\n",
    "\n",
    "    # return the historical data for the given window\n",
    "    return data_portal.get_history_window(assets=assets, end_dt=end_dt, bar_count=end_loc - start_loc,\n",
    "                                          frequency='1d',\n",
    "                                          field=field,\n",
    "                                          data_frequency='daily')\n",
    "\n",
    "# Get the historical data for the given window\n",
    "historical_data = get_pricing(data_portal, trading_calendar, universe_tickers,\n",
    "                              start_date='2011-01-05', end_date='2016-01-05')\n",
    "# Display the historical data\n",
    "historical_data.head(2)"
   ]
  },
  {
   "cell_type": "markdown",
   "metadata": {},
   "source": [
    "# Date Alignment\n",
    "\n",
    "When pipeline returns with a date of, e.g., `2016-01-07` this includes data that would be known as of before the **market open** on `2016-01-07`. As such, if you ask for latest known values on each day, it will return the closing price from the day before and label the date `2016-01-07`. All factor values assume to be run prior to the open on the labeled day with data known before that point in time."
   ]
  },
  {
   "cell_type": "markdown",
   "metadata": {},
   "source": [
    "# Adding Factors and Filters\n",
    "\n",
    "Now that you know how build a pipeline and execute it, in this section we will see how we can add factors and filters to our pipeline. These factors and filters will determine the computations we want our pipeline to compute each day.\n",
    "\n",
    "We can add both factors and filters to our pipeline using the `.add(column, name)` method of the `Pipeline` class. The `column` parameter represetns the factor or filter to add to the pipeline. The `name` parameter is a string that determines the name of the column in the output Pandas Dataframe for that factor of fitler. As mentioned earlier, each factor and filter will appear as a column in the output dataframe of our pipeline. Let's start by adding a factor to our pipeline.\n",
    "\n",
    "### Factors\n",
    "\n",
    "In the code below, we will use Zipline's built-in `SimpleMovingAverage` factor to create a factor that computes the 15-day mean closing price of securities. We will then add this factor to our pipeline and use `.show_graph()` to see a diagram of our pipeline with the factor added. "
   ]
  },
  {
   "cell_type": "code",
   "execution_count": 14,
   "metadata": {},
   "outputs": [
    {
     "data": {
      "image/svg+xml": [
       "<svg height=\"376pt\" viewBox=\"0.00 0.00 389.00 376.00\" width=\"389pt\" xmlns=\"http://www.w3.org/2000/svg\" xmlns:xlink=\"http://www.w3.org/1999/xlink\">\n",
       "<g class=\"graph\" id=\"graph0\" transform=\"scale(1 1) rotate(0) translate(4 372)\">\n",
       "<title>G</title>\n",
       "<polygon fill=\"white\" points=\"-4,4 -4,-372 385,-372 385,4 -4,4\" stroke=\"none\"/>\n",
       "<g class=\"cluster\" id=\"clust2\"><title>cluster_Input</title>\n",
       "<polygon fill=\"#ffec8b\" points=\"8,-268 8,-360 373,-360 373,-268 8,-268\" stroke=\"#ffec8b\"/>\n",
       "<text font-family=\"Times New Roman,serif\" font-size=\"14.00\" text-anchor=\"middle\" x=\"190.5\" y=\"-344.8\">Input</text>\n",
       "</g>\n",
       "<g class=\"cluster\" id=\"clust1\"><title>cluster_Output</title>\n",
       "<polygon fill=\"#ffec8b\" points=\"51,-8 51,-85 363,-85 363,-8 51,-8\" stroke=\"#ffec8b\"/>\n",
       "<text font-family=\"Times New Roman,serif\" font-size=\"14.00\" text-anchor=\"middle\" x=\"207\" y=\"-15.8\">Output</text>\n",
       "</g>\n",
       "<!-- 2266141378320 -->\n",
       "<g class=\"node\" id=\"node1\"><title>2266141378320</title>\n",
       "<polygon fill=\"#b3cde3\" points=\"355,-77 209,-77 209,-39 355,-39 355,-77\" stroke=\"black\"/>\n",
       "<text font-family=\"Times New Roman,serif\" font-size=\"14.00\" text-anchor=\"start\" x=\"217\" y=\"-61.8\">SimpleMovingAverage:</text>\n",
       "<text font-family=\"Times New Roman,serif\" font-size=\"14.00\" text-anchor=\"start\" x=\"217\" y=\"-46.8\">  window_length: 15</text>\n",
       "</g>\n",
       "<!-- 2266025647912 -->\n",
       "<g class=\"node\" id=\"node2\"><title>2266025647912</title>\n",
       "<polygon fill=\"#ccebc5\" points=\"191,-77 59,-77 59,-39 191,-39 191,-77\" stroke=\"black\"/>\n",
       "<text font-family=\"Times New Roman,serif\" font-size=\"14.00\" text-anchor=\"start\" x=\"67\" y=\"-61.8\">Expression:</text>\n",
       "<text font-family=\"Times New Roman,serif\" font-size=\"14.00\" text-anchor=\"start\" x=\"67\" y=\"-46.8\">  x_0 &lt;= (1.00E+01)</text>\n",
       "</g>\n",
       "<!-- 2266117045664 -->\n",
       "<g class=\"node\" id=\"node3\"><title>2266117045664</title>\n",
       "<polygon fill=\"#fbb4ae\" points=\"181.5,-329 16.5,-329 16.5,-276 181.5,-276 181.5,-329\" stroke=\"black\"/>\n",
       "<text font-family=\"Times New Roman,serif\" font-size=\"14.00\" text-anchor=\"start\" x=\"24.5\" y=\"-313.8\">BoundColumn:</text>\n",
       "<text font-family=\"Times New Roman,serif\" font-size=\"14.00\" text-anchor=\"start\" x=\"24.5\" y=\"-298.8\">  Dataset: USEquityPricing</text>\n",
       "<text font-family=\"Times New Roman,serif\" font-size=\"14.00\" text-anchor=\"start\" x=\"24.5\" y=\"-283.8\">  Column: volume</text>\n",
       "</g>\n",
       "<!-- 2266122828320 -->\n",
       "<g class=\"node\" id=\"node5\"><title>2266122828320</title>\n",
       "<polygon fill=\"#b3cde3\" points=\"196.5,-240 53.5,-240 53.5,-202 196.5,-202 196.5,-240\" stroke=\"black\"/>\n",
       "<text font-family=\"Times New Roman,serif\" font-size=\"14.00\" text-anchor=\"start\" x=\"61.5\" y=\"-224.8\">AverageDollarVolume:</text>\n",
       "<text font-family=\"Times New Roman,serif\" font-size=\"14.00\" text-anchor=\"start\" x=\"61.5\" y=\"-209.8\">  window_length: 60</text>\n",
       "</g>\n",
       "<!-- 2266117045664&#45;&gt;2266122828320 -->\n",
       "<g class=\"edge\" id=\"edge5\"><title>2266117045664-&gt;2266122828320</title>\n",
       "<path d=\"M117.5,-275.814C117.5,-275.814 117.5,-250.253 117.5,-250.253\" fill=\"none\" stroke=\"black\"/>\n",
       "<polygon fill=\"black\" points=\"121,-250.253 117.5,-240.253 114,-250.253 121,-250.253\" stroke=\"black\"/>\n",
       "</g>\n",
       "<!-- 2266116994664 -->\n",
       "<g class=\"node\" id=\"node4\"><title>2266116994664</title>\n",
       "<polygon fill=\"#fbb4ae\" points=\"364.5,-329 199.5,-329 199.5,-276 364.5,-276 364.5,-329\" stroke=\"black\"/>\n",
       "<text font-family=\"Times New Roman,serif\" font-size=\"14.00\" text-anchor=\"start\" x=\"207.5\" y=\"-313.8\">BoundColumn:</text>\n",
       "<text font-family=\"Times New Roman,serif\" font-size=\"14.00\" text-anchor=\"start\" x=\"207.5\" y=\"-298.8\">  Dataset: USEquityPricing</text>\n",
       "<text font-family=\"Times New Roman,serif\" font-size=\"14.00\" text-anchor=\"start\" x=\"207.5\" y=\"-283.8\">  Column: close</text>\n",
       "</g>\n",
       "<!-- 2266116994664&#45;&gt;2266141378320 -->\n",
       "<g class=\"edge\" id=\"edge1\"><title>2266116994664-&gt;2266141378320</title>\n",
       "<path d=\"M282,-275.869C282,-275.869 282,-87.282 282,-87.282\" fill=\"none\" stroke=\"black\"/>\n",
       "<polygon fill=\"black\" points=\"285.5,-87.282 282,-77.282 278.5,-87.282 285.5,-87.282\" stroke=\"black\"/>\n",
       "</g>\n",
       "<!-- 2266116994664&#45;&gt;2266122828320 -->\n",
       "<g class=\"edge\" id=\"edge2\"><title>2266116994664-&gt;2266122828320</title>\n",
       "<path d=\"M204.25,-275.814C204.25,-252.045 204.25,-221 204.25,-221 204.25,-221 203.49,-221 203.49,-221\" fill=\"none\" stroke=\"black\"/>\n",
       "<polygon fill=\"black\" points=\"206.651,-217.5 196.651,-221 206.651,-224.5 206.651,-217.5\" stroke=\"black\"/>\n",
       "</g>\n",
       "<!-- 2266122828544 -->\n",
       "<g class=\"node\" id=\"node6\"><title>2266122828544</title>\n",
       "<polygon fill=\"#b3cde3\" points=\"187.5,-166 62.5,-166 62.5,-113 187.5,-113 187.5,-166\" stroke=\"black\"/>\n",
       "<text font-family=\"Times New Roman,serif\" font-size=\"14.00\" text-anchor=\"start\" x=\"70.5\" y=\"-150.8\">Rank:</text>\n",
       "<text font-family=\"Times New Roman,serif\" font-size=\"14.00\" text-anchor=\"start\" x=\"70.5\" y=\"-135.8\">  method: 'ordinal'</text>\n",
       "<text font-family=\"Times New Roman,serif\" font-size=\"14.00\" text-anchor=\"start\" x=\"70.5\" y=\"-120.8\">  mask: AssetExists</text>\n",
       "</g>\n",
       "<!-- 2266122828320&#45;&gt;2266122828544 -->\n",
       "<g class=\"edge\" id=\"edge4\"><title>2266122828320-&gt;2266122828544</title>\n",
       "<path d=\"M125,-201.686C125,-201.686 125,-176.075 125,-176.075\" fill=\"none\" stroke=\"black\"/>\n",
       "<polygon fill=\"black\" points=\"128.5,-176.075 125,-166.075 121.5,-176.075 128.5,-176.075\" stroke=\"black\"/>\n",
       "</g>\n",
       "<!-- 2266122828544&#45;&gt;2266025647912 -->\n",
       "<g class=\"edge\" id=\"edge3\"><title>2266122828544-&gt;2266025647912</title>\n",
       "<path d=\"M125,-112.814C125,-112.814 125,-87.2531 125,-87.2531\" fill=\"none\" stroke=\"black\"/>\n",
       "<polygon fill=\"black\" points=\"128.5,-87.253 125,-77.2531 121.5,-87.2531 128.5,-87.253\" stroke=\"black\"/>\n",
       "</g>\n",
       "</g>\n",
       "</svg>"
      ],
      "text/plain": [
       "<IPython.core.display.SVG object>"
      ]
     },
     "execution_count": 14,
     "metadata": {},
     "output_type": "execute_result"
    }
   ],
   "source": [
    "from zipline.pipeline.factors import SimpleMovingAverage\n",
    "\n",
    "# Create a factor that computes the 15-day mean closing price of securities\n",
    "mean_close_15 = SimpleMovingAverage(inputs = [USEquityPricing.close], window_length = 15)\n",
    "\n",
    "# Add the factor to our pipeline\n",
    "pipeline.add(mean_close_15, '15 Day MCP')\n",
    "\n",
    "# Render the pipeline as a DAG\n",
    "pipeline.show_graph()"
   ]
  },
  {
   "cell_type": "markdown",
   "metadata": {},
   "source": [
    "In the diagram above we can clearly see the factor we have added. Now, we can run our pipeline again and see its output. The pipeline is run in exactly the same way we did before. "
   ]
  },
  {
   "cell_type": "code",
   "execution_count": 15,
   "metadata": {},
   "outputs": [
    {
     "data": {
      "text/html": [
       "<div>\n",
       "<style scoped>\n",
       "    .dataframe tbody tr th:only-of-type {\n",
       "        vertical-align: middle;\n",
       "    }\n",
       "\n",
       "    .dataframe tbody tr th {\n",
       "        vertical-align: top;\n",
       "    }\n",
       "\n",
       "    .dataframe thead th {\n",
       "        text-align: right;\n",
       "    }\n",
       "</style>\n",
       "<table border=\"1\" class=\"dataframe\">\n",
       "  <thead>\n",
       "    <tr style=\"text-align: right;\">\n",
       "      <th></th>\n",
       "      <th></th>\n",
       "      <th>15 Day MCP</th>\n",
       "    </tr>\n",
       "  </thead>\n",
       "  <tbody>\n",
       "    <tr>\n",
       "      <th rowspan=\"5\" valign=\"top\">2014-01-06 00:00:00+00:00</th>\n",
       "      <th>Equity(3 [AAPL])</th>\n",
       "      <td>73.087800</td>\n",
       "    </tr>\n",
       "    <tr>\n",
       "      <th>Equity(38 [AMZN])</th>\n",
       "      <td>395.108000</td>\n",
       "    </tr>\n",
       "    <tr>\n",
       "      <th>Equity(59 [BAC])</th>\n",
       "      <td>14.733867</td>\n",
       "    </tr>\n",
       "    <tr>\n",
       "      <th>Equity(74 [C])</th>\n",
       "      <td>50.056867</td>\n",
       "    </tr>\n",
       "    <tr>\n",
       "      <th>Equity(173 [FB])</th>\n",
       "      <td>55.072400</td>\n",
       "    </tr>\n",
       "  </tbody>\n",
       "</table>\n",
       "</div>"
      ],
      "text/plain": [
       "                                             15 Day MCP\n",
       "2014-01-06 00:00:00+00:00 Equity(3 [AAPL])    73.087800\n",
       "                          Equity(38 [AMZN])  395.108000\n",
       "                          Equity(59 [BAC])    14.733867\n",
       "                          Equity(74 [C])      50.056867\n",
       "                          Equity(173 [FB])    55.072400"
      ]
     },
     "execution_count": 15,
     "metadata": {},
     "output_type": "execute_result"
    }
   ],
   "source": [
    "# Set starting and end dates\n",
    "start_date = pd.Timestamp('2014-01-06', tz='utc')\n",
    "end_date = pd.Timestamp('2016-01-05', tz='utc')\n",
    "\n",
    "# Run our pipeline for the given start and end dates\n",
    "output = engine.run_pipeline(pipeline, start_date, end_date)\n",
    "\n",
    "# Display the pipeline output\n",
    "output.head()"
   ]
  },
  {
   "cell_type": "markdown",
   "metadata": {},
   "source": [
    "We can see that now our output dataframe contains a column with the name `15 Day MCP`, which is the name we gave to our factor before. This ouput dataframe from our pipeline gives us the 15-day mean closing price of the securities that passed our `screen`.\n",
    "\n",
    "### Filters\n",
    "\n",
    "Filters are created and added to the pipeline in the same way as factors. In the code below, we create a filter that returns `True` whenever the 15-day average closing price is above \\$100. Remember, a filter produces a `True` or `False` value for each security every day. We will then add this filter to our pipeline and use `.show_graph()` to see a diagram of our pipeline with the filter added."
   ]
  },
  {
   "cell_type": "code",
   "execution_count": 16,
   "metadata": {},
   "outputs": [
    {
     "data": {
      "image/svg+xml": [
       "<svg height=\"450pt\" viewBox=\"0.00 0.00 389.00 450.00\" width=\"389pt\" xmlns=\"http://www.w3.org/2000/svg\" xmlns:xlink=\"http://www.w3.org/1999/xlink\">\n",
       "<g class=\"graph\" id=\"graph0\" transform=\"scale(1 1) rotate(0) translate(4 446)\">\n",
       "<title>G</title>\n",
       "<polygon fill=\"white\" points=\"-4,4 -4,-446 385,-446 385,4 -4,4\" stroke=\"none\"/>\n",
       "<g class=\"cluster\" id=\"clust1\"><title>cluster_Output</title>\n",
       "<polygon fill=\"#ffec8b\" points=\"51,-8 51,-159 363,-159 363,-8 51,-8\" stroke=\"#ffec8b\"/>\n",
       "<text font-family=\"Times New Roman,serif\" font-size=\"14.00\" text-anchor=\"middle\" x=\"207\" y=\"-15.8\">Output</text>\n",
       "</g>\n",
       "<g class=\"cluster\" id=\"clust2\"><title>cluster_Input</title>\n",
       "<polygon fill=\"#ffec8b\" points=\"8,-342 8,-434 373,-434 373,-342 8,-342\" stroke=\"#ffec8b\"/>\n",
       "<text font-family=\"Times New Roman,serif\" font-size=\"14.00\" text-anchor=\"middle\" x=\"190.5\" y=\"-418.8\">Input</text>\n",
       "</g>\n",
       "<!-- 2266141378320 -->\n",
       "<g class=\"node\" id=\"node1\"><title>2266141378320</title>\n",
       "<polygon fill=\"#b3cde3\" points=\"355,-151 209,-151 209,-113 355,-113 355,-151\" stroke=\"black\"/>\n",
       "<text font-family=\"Times New Roman,serif\" font-size=\"14.00\" text-anchor=\"start\" x=\"217\" y=\"-135.8\">SimpleMovingAverage:</text>\n",
       "<text font-family=\"Times New Roman,serif\" font-size=\"14.00\" text-anchor=\"start\" x=\"217\" y=\"-120.8\">  window_length: 15</text>\n",
       "</g>\n",
       "<!-- 2266205389432 -->\n",
       "<g class=\"node\" id=\"node2\"><title>2266205389432</title>\n",
       "<polygon fill=\"#ccebc5\" points=\"344,-77 220,-77 220,-39 344,-39 344,-77\" stroke=\"black\"/>\n",
       "<text font-family=\"Times New Roman,serif\" font-size=\"14.00\" text-anchor=\"start\" x=\"228\" y=\"-61.8\">Expression:</text>\n",
       "<text font-family=\"Times New Roman,serif\" font-size=\"14.00\" text-anchor=\"start\" x=\"228\" y=\"-46.8\">  x_0 &gt; (1.00E+02)</text>\n",
       "</g>\n",
       "<!-- 2266141378320&#45;&gt;2266205389432 -->\n",
       "<g class=\"edge\" id=\"edge1\"><title>2266141378320-&gt;2266205389432</title>\n",
       "<path d=\"M282,-112.943C282,-112.943 282,-87.2495 282,-87.2495\" fill=\"none\" stroke=\"black\"/>\n",
       "<polygon fill=\"black\" points=\"285.5,-87.2494 282,-77.2495 278.5,-87.2495 285.5,-87.2494\" stroke=\"black\"/>\n",
       "</g>\n",
       "<!-- 2266025647912 -->\n",
       "<g class=\"node\" id=\"node3\"><title>2266025647912</title>\n",
       "<polygon fill=\"#ccebc5\" points=\"191,-151 59,-151 59,-113 191,-113 191,-151\" stroke=\"black\"/>\n",
       "<text font-family=\"Times New Roman,serif\" font-size=\"14.00\" text-anchor=\"start\" x=\"67\" y=\"-135.8\">Expression:</text>\n",
       "<text font-family=\"Times New Roman,serif\" font-size=\"14.00\" text-anchor=\"start\" x=\"67\" y=\"-120.8\">  x_0 &lt;= (1.00E+01)</text>\n",
       "</g>\n",
       "<!-- 2266117045664 -->\n",
       "<g class=\"node\" id=\"node4\"><title>2266117045664</title>\n",
       "<polygon fill=\"#fbb4ae\" points=\"181.5,-403 16.5,-403 16.5,-350 181.5,-350 181.5,-403\" stroke=\"black\"/>\n",
       "<text font-family=\"Times New Roman,serif\" font-size=\"14.00\" text-anchor=\"start\" x=\"24.5\" y=\"-387.8\">BoundColumn:</text>\n",
       "<text font-family=\"Times New Roman,serif\" font-size=\"14.00\" text-anchor=\"start\" x=\"24.5\" y=\"-372.8\">  Dataset: USEquityPricing</text>\n",
       "<text font-family=\"Times New Roman,serif\" font-size=\"14.00\" text-anchor=\"start\" x=\"24.5\" y=\"-357.8\">  Column: volume</text>\n",
       "</g>\n",
       "<!-- 2266122828320 -->\n",
       "<g class=\"node\" id=\"node6\"><title>2266122828320</title>\n",
       "<polygon fill=\"#b3cde3\" points=\"196.5,-314 53.5,-314 53.5,-276 196.5,-276 196.5,-314\" stroke=\"black\"/>\n",
       "<text font-family=\"Times New Roman,serif\" font-size=\"14.00\" text-anchor=\"start\" x=\"61.5\" y=\"-298.8\">AverageDollarVolume:</text>\n",
       "<text font-family=\"Times New Roman,serif\" font-size=\"14.00\" text-anchor=\"start\" x=\"61.5\" y=\"-283.8\">  window_length: 60</text>\n",
       "</g>\n",
       "<!-- 2266117045664&#45;&gt;2266122828320 -->\n",
       "<g class=\"edge\" id=\"edge6\"><title>2266117045664-&gt;2266122828320</title>\n",
       "<path d=\"M117.5,-349.814C117.5,-349.814 117.5,-324.253 117.5,-324.253\" fill=\"none\" stroke=\"black\"/>\n",
       "<polygon fill=\"black\" points=\"121,-324.253 117.5,-314.253 114,-324.253 121,-324.253\" stroke=\"black\"/>\n",
       "</g>\n",
       "<!-- 2266116994664 -->\n",
       "<g class=\"node\" id=\"node5\"><title>2266116994664</title>\n",
       "<polygon fill=\"#fbb4ae\" points=\"364.5,-403 199.5,-403 199.5,-350 364.5,-350 364.5,-403\" stroke=\"black\"/>\n",
       "<text font-family=\"Times New Roman,serif\" font-size=\"14.00\" text-anchor=\"start\" x=\"207.5\" y=\"-387.8\">BoundColumn:</text>\n",
       "<text font-family=\"Times New Roman,serif\" font-size=\"14.00\" text-anchor=\"start\" x=\"207.5\" y=\"-372.8\">  Dataset: USEquityPricing</text>\n",
       "<text font-family=\"Times New Roman,serif\" font-size=\"14.00\" text-anchor=\"start\" x=\"207.5\" y=\"-357.8\">  Column: close</text>\n",
       "</g>\n",
       "<!-- 2266116994664&#45;&gt;2266141378320 -->\n",
       "<g class=\"edge\" id=\"edge2\"><title>2266116994664-&gt;2266141378320</title>\n",
       "<path d=\"M282,-349.869C282,-349.869 282,-161.282 282,-161.282\" fill=\"none\" stroke=\"black\"/>\n",
       "<polygon fill=\"black\" points=\"285.5,-161.282 282,-151.282 278.5,-161.282 285.5,-161.282\" stroke=\"black\"/>\n",
       "</g>\n",
       "<!-- 2266116994664&#45;&gt;2266122828320 -->\n",
       "<g class=\"edge\" id=\"edge3\"><title>2266116994664-&gt;2266122828320</title>\n",
       "<path d=\"M204.25,-349.814C204.25,-326.045 204.25,-295 204.25,-295 204.25,-295 203.49,-295 203.49,-295\" fill=\"none\" stroke=\"black\"/>\n",
       "<polygon fill=\"black\" points=\"206.651,-291.5 196.651,-295 206.651,-298.5 206.651,-291.5\" stroke=\"black\"/>\n",
       "</g>\n",
       "<!-- 2266122828544 -->\n",
       "<g class=\"node\" id=\"node7\"><title>2266122828544</title>\n",
       "<polygon fill=\"#b3cde3\" points=\"187.5,-240 62.5,-240 62.5,-187 187.5,-187 187.5,-240\" stroke=\"black\"/>\n",
       "<text font-family=\"Times New Roman,serif\" font-size=\"14.00\" text-anchor=\"start\" x=\"70.5\" y=\"-224.8\">Rank:</text>\n",
       "<text font-family=\"Times New Roman,serif\" font-size=\"14.00\" text-anchor=\"start\" x=\"70.5\" y=\"-209.8\">  method: 'ordinal'</text>\n",
       "<text font-family=\"Times New Roman,serif\" font-size=\"14.00\" text-anchor=\"start\" x=\"70.5\" y=\"-194.8\">  mask: AssetExists</text>\n",
       "</g>\n",
       "<!-- 2266122828320&#45;&gt;2266122828544 -->\n",
       "<g class=\"edge\" id=\"edge5\"><title>2266122828320-&gt;2266122828544</title>\n",
       "<path d=\"M125,-275.686C125,-275.686 125,-250.075 125,-250.075\" fill=\"none\" stroke=\"black\"/>\n",
       "<polygon fill=\"black\" points=\"128.5,-250.075 125,-240.075 121.5,-250.075 128.5,-250.075\" stroke=\"black\"/>\n",
       "</g>\n",
       "<!-- 2266122828544&#45;&gt;2266025647912 -->\n",
       "<g class=\"edge\" id=\"edge4\"><title>2266122828544-&gt;2266025647912</title>\n",
       "<path d=\"M125,-186.814C125,-186.814 125,-161.253 125,-161.253\" fill=\"none\" stroke=\"black\"/>\n",
       "<polygon fill=\"black\" points=\"128.5,-161.253 125,-151.253 121.5,-161.253 128.5,-161.253\" stroke=\"black\"/>\n",
       "</g>\n",
       "</g>\n",
       "</svg>"
      ],
      "text/plain": [
       "<IPython.core.display.SVG object>"
      ]
     },
     "execution_count": 16,
     "metadata": {},
     "output_type": "execute_result"
    }
   ],
   "source": [
    "# Create a Filter that returns True whenever the 15-day average closing price is above $100\n",
    "high_mean = mean_close_15 > 100\n",
    "\n",
    "# Add the filter to our pipeline\n",
    "pipeline.add(high_mean, 'High Mean')\n",
    "\n",
    "# Render the pipeline as a DAG\n",
    "pipeline.show_graph()"
   ]
  },
  {
   "cell_type": "markdown",
   "metadata": {},
   "source": [
    "In the diagram above we can clearly see the fiter we have added. Now, we can run our pipeline again and see its output. The pipeline is run in exactly the same way we did before. "
   ]
  },
  {
   "cell_type": "code",
   "execution_count": 17,
   "metadata": {},
   "outputs": [
    {
     "data": {
      "text/html": [
       "<div>\n",
       "<style scoped>\n",
       "    .dataframe tbody tr th:only-of-type {\n",
       "        vertical-align: middle;\n",
       "    }\n",
       "\n",
       "    .dataframe tbody tr th {\n",
       "        vertical-align: top;\n",
       "    }\n",
       "\n",
       "    .dataframe thead th {\n",
       "        text-align: right;\n",
       "    }\n",
       "</style>\n",
       "<table border=\"1\" class=\"dataframe\">\n",
       "  <thead>\n",
       "    <tr style=\"text-align: right;\">\n",
       "      <th></th>\n",
       "      <th></th>\n",
       "      <th>15 Day MCP</th>\n",
       "      <th>High Mean</th>\n",
       "    </tr>\n",
       "  </thead>\n",
       "  <tbody>\n",
       "    <tr>\n",
       "      <th rowspan=\"5\" valign=\"top\">2014-01-06 00:00:00+00:00</th>\n",
       "      <th>Equity(3 [AAPL])</th>\n",
       "      <td>73.087800</td>\n",
       "      <td>False</td>\n",
       "    </tr>\n",
       "    <tr>\n",
       "      <th>Equity(38 [AMZN])</th>\n",
       "      <td>395.108000</td>\n",
       "      <td>True</td>\n",
       "    </tr>\n",
       "    <tr>\n",
       "      <th>Equity(59 [BAC])</th>\n",
       "      <td>14.733867</td>\n",
       "      <td>False</td>\n",
       "    </tr>\n",
       "    <tr>\n",
       "      <th>Equity(74 [C])</th>\n",
       "      <td>50.056867</td>\n",
       "      <td>False</td>\n",
       "    </tr>\n",
       "    <tr>\n",
       "      <th>Equity(173 [FB])</th>\n",
       "      <td>55.072400</td>\n",
       "      <td>False</td>\n",
       "    </tr>\n",
       "  </tbody>\n",
       "</table>\n",
       "</div>"
      ],
      "text/plain": [
       "                                             15 Day MCP  High Mean\n",
       "2014-01-06 00:00:00+00:00 Equity(3 [AAPL])    73.087800      False\n",
       "                          Equity(38 [AMZN])  395.108000       True\n",
       "                          Equity(59 [BAC])    14.733867      False\n",
       "                          Equity(74 [C])      50.056867      False\n",
       "                          Equity(173 [FB])    55.072400      False"
      ]
     },
     "execution_count": 17,
     "metadata": {},
     "output_type": "execute_result"
    }
   ],
   "source": [
    "# Set starting and end dates\n",
    "start_date = pd.Timestamp('2014-01-06', tz='utc')\n",
    "end_date = pd.Timestamp('2016-01-05', tz='utc')\n",
    "\n",
    "# Run our pipeline for the given start and end dates\n",
    "output = engine.run_pipeline(pipeline, start_date, end_date)\n",
    "\n",
    "# Display the pipeline output\n",
    "output.head()"
   ]
  },
  {
   "cell_type": "markdown",
   "metadata": {},
   "source": [
    "We can see that now our output dataframe contains a two columns, one for the filter and one for the factor. The new column has the name `High Mean`, which is the name we gave to our filter before. Notice that the filter column only contains Boolean values, where only the securities with a 15-day average closing price above \\$100 have `True` values."
   ]
  }
 ],
 "metadata": {
  "kernelspec": {
   "display_name": "aitnd",
   "language": "python",
   "name": "aitnd"
  },
  "language_info": {
   "codemirror_mode": {
    "name": "ipython",
    "version": 3
   },
   "file_extension": ".py",
   "mimetype": "text/x-python",
   "name": "python",
   "nbconvert_exporter": "python",
   "pygments_lexer": "ipython3",
   "version": "3.6.7"
  }
 },
 "nbformat": 4,
 "nbformat_minor": 2
}
